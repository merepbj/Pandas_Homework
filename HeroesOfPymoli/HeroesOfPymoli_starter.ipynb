{
 "cells": [
  {
   "cell_type": "markdown",
   "metadata": {},
   "source": [
    "### Note\n",
    "* Instructions have been included for each segment. You do not have to follow them exactly, but they are included to help you think through the steps."
   ]
  },
  {
   "cell_type": "code",
   "execution_count": 180,
   "metadata": {},
   "outputs": [],
   "source": [
    "# Name at least three observable trends in the data\n",
    "# Among the 576 total players, 84.03% of players are male\n",
    "# The age group spending the most money is 20-24 years old (44.79%) while 15-19 and 25-29 make up the top three.  \n",
    "# Females, while smaller in number, outspend males, on average ($4.47 v $4.07, respectively)\n",
    "# Final Critic is the most popular item in terms of purchase count and purchase value"
   ]
  },
  {
   "cell_type": "code",
   "execution_count": 181,
   "metadata": {},
   "outputs": [
    {
     "data": {
      "text/html": [
       "<div>\n",
       "<style scoped>\n",
       "    .dataframe tbody tr th:only-of-type {\n",
       "        vertical-align: middle;\n",
       "    }\n",
       "\n",
       "    .dataframe tbody tr th {\n",
       "        vertical-align: top;\n",
       "    }\n",
       "\n",
       "    .dataframe thead th {\n",
       "        text-align: right;\n",
       "    }\n",
       "</style>\n",
       "<table border=\"1\" class=\"dataframe\">\n",
       "  <thead>\n",
       "    <tr style=\"text-align: right;\">\n",
       "      <th></th>\n",
       "      <th>Purchase ID</th>\n",
       "      <th>SN</th>\n",
       "      <th>Age</th>\n",
       "      <th>Gender</th>\n",
       "      <th>Item ID</th>\n",
       "      <th>Item Name</th>\n",
       "      <th>Price</th>\n",
       "    </tr>\n",
       "  </thead>\n",
       "  <tbody>\n",
       "    <tr>\n",
       "      <th>0</th>\n",
       "      <td>0</td>\n",
       "      <td>Lisim78</td>\n",
       "      <td>20</td>\n",
       "      <td>Male</td>\n",
       "      <td>108</td>\n",
       "      <td>Extraction, Quickblade Of Trembling Hands</td>\n",
       "      <td>3.53</td>\n",
       "    </tr>\n",
       "    <tr>\n",
       "      <th>1</th>\n",
       "      <td>1</td>\n",
       "      <td>Lisovynya38</td>\n",
       "      <td>40</td>\n",
       "      <td>Male</td>\n",
       "      <td>143</td>\n",
       "      <td>Frenzied Scimitar</td>\n",
       "      <td>1.56</td>\n",
       "    </tr>\n",
       "    <tr>\n",
       "      <th>2</th>\n",
       "      <td>2</td>\n",
       "      <td>Ithergue48</td>\n",
       "      <td>24</td>\n",
       "      <td>Male</td>\n",
       "      <td>92</td>\n",
       "      <td>Final Critic</td>\n",
       "      <td>4.88</td>\n",
       "    </tr>\n",
       "    <tr>\n",
       "      <th>3</th>\n",
       "      <td>3</td>\n",
       "      <td>Chamassasya86</td>\n",
       "      <td>24</td>\n",
       "      <td>Male</td>\n",
       "      <td>100</td>\n",
       "      <td>Blindscythe</td>\n",
       "      <td>3.27</td>\n",
       "    </tr>\n",
       "    <tr>\n",
       "      <th>4</th>\n",
       "      <td>4</td>\n",
       "      <td>Iskosia90</td>\n",
       "      <td>23</td>\n",
       "      <td>Male</td>\n",
       "      <td>131</td>\n",
       "      <td>Fury</td>\n",
       "      <td>1.44</td>\n",
       "    </tr>\n",
       "  </tbody>\n",
       "</table>\n",
       "</div>"
      ],
      "text/plain": [
       "   Purchase ID             SN  Age Gender  Item ID  \\\n",
       "0            0        Lisim78   20   Male      108   \n",
       "1            1    Lisovynya38   40   Male      143   \n",
       "2            2     Ithergue48   24   Male       92   \n",
       "3            3  Chamassasya86   24   Male      100   \n",
       "4            4      Iskosia90   23   Male      131   \n",
       "\n",
       "                                   Item Name  Price  \n",
       "0  Extraction, Quickblade Of Trembling Hands   3.53  \n",
       "1                          Frenzied Scimitar   1.56  \n",
       "2                               Final Critic   4.88  \n",
       "3                                Blindscythe   3.27  \n",
       "4                                       Fury   1.44  "
      ]
     },
     "execution_count": 181,
     "metadata": {},
     "output_type": "execute_result"
    }
   ],
   "source": [
    "# Dependencies and Setup\n",
    "import pandas as pd\n",
    "\n",
    "# File to Load (Remember to Change These)\n",
    "file_to_load = \"Resources/purchase_data.csv\"\n",
    "\n",
    "# Read Purchasing File and store into Pandas data frame\n",
    "purchase_data_df = pd.read_csv(file_to_load)\n",
    "purchase_data_df.head()"
   ]
  },
  {
   "cell_type": "markdown",
   "metadata": {},
   "source": [
    "## Player Count"
   ]
  },
  {
   "cell_type": "markdown",
   "metadata": {},
   "source": [
    "* Display the total number of players\n"
   ]
  },
  {
   "cell_type": "code",
   "execution_count": 182,
   "metadata": {},
   "outputs": [
    {
     "data": {
      "text/plain": [
       "576"
      ]
     },
     "execution_count": 182,
     "metadata": {},
     "output_type": "execute_result"
    }
   ],
   "source": [
    "#Display the total number of players\n",
    "total_players = len(purchase_data_df[\"SN\"].unique())\n",
    "total_players"
   ]
  },
  {
   "cell_type": "markdown",
   "metadata": {},
   "source": [
    "## Purchasing Analysis (Total)"
   ]
  },
  {
   "cell_type": "markdown",
   "metadata": {},
   "source": [
    "* Run basic calculations to obtain number of unique items, average price, etc.\n",
    "\n",
    "\n",
    "* Create a summary data frame to hold the results\n",
    "\n",
    "\n",
    "* Optional: give the displayed data cleaner formatting\n",
    "\n",
    "\n",
    "* Display the summary data frame\n"
   ]
  },
  {
   "cell_type": "code",
   "execution_count": 183,
   "metadata": {
    "scrolled": true
   },
   "outputs": [
    {
     "data": {
      "text/html": [
       "<style  type=\"text/css\" >\n",
       "</style><table id=\"T_fa3fc106_3ff0_11eb_9cae_bc542fd6ae56\" ><thead>    <tr>        <th class=\"blank level0\" ></th>        <th class=\"col_heading level0 col0\" >Number of Unique Items</th>        <th class=\"col_heading level0 col1\" >Average Purchase Price</th>        <th class=\"col_heading level0 col2\" >Total Number of Purchases</th>        <th class=\"col_heading level0 col3\" >Total Revenue</th>    </tr></thead><tbody>\n",
       "                <tr>\n",
       "                        <th id=\"T_fa3fc106_3ff0_11eb_9cae_bc542fd6ae56level0_row0\" class=\"row_heading level0 row0\" >0</th>\n",
       "                        <td id=\"T_fa3fc106_3ff0_11eb_9cae_bc542fd6ae56row0_col0\" class=\"data row0 col0\" >179</td>\n",
       "                        <td id=\"T_fa3fc106_3ff0_11eb_9cae_bc542fd6ae56row0_col1\" class=\"data row0 col1\" >$3.05</td>\n",
       "                        <td id=\"T_fa3fc106_3ff0_11eb_9cae_bc542fd6ae56row0_col2\" class=\"data row0 col2\" >$780.00</td>\n",
       "                        <td id=\"T_fa3fc106_3ff0_11eb_9cae_bc542fd6ae56row0_col3\" class=\"data row0 col3\" >$2,379.77</td>\n",
       "            </tr>\n",
       "    </tbody></table>"
      ],
      "text/plain": [
       "<pandas.io.formats.style.Styler at 0x1f2b4bee438>"
      ]
     },
     "execution_count": 183,
     "metadata": {},
     "output_type": "execute_result"
    }
   ],
   "source": [
    "#Calculate the number of unique items\n",
    "number_of_unique_items = len(purchase_data_df[\"Item ID\"].unique())\n",
    "\n",
    "#Calculate the average price\n",
    "average_price = purchase_data_df[\"Price\"].mean()\n",
    "\n",
    "#Calculate the total number of purchases\n",
    "total_purchases = purchase_data_df[\"Purchase ID\"].count()\n",
    "\n",
    "#Calculate the Total Revenue\n",
    "total_revenue = purchase_data_df[\"Price\"].sum()\n",
    "\n",
    "#Create a summary frame to hold the results\n",
    "summary_df = pd.DataFrame({\"Number of Unique Items\":[item_names], \n",
    "                               \"Average Purchase Price\":[average_price], \n",
    "                               \"Total Number of Purchases\":[total_purchases],\n",
    "                                \"Total Revenue\": [total_revenue]})\n",
    "\n",
    "# Format using currency and decimals\n",
    "summary_df.style.format({\"Average Purchase Price\": \"${:,.2f}\",\n",
    "                                    \"Total Number of Purchases\": \"${:,.2f}\",\n",
    "                                    \"Total Revenue\": \"${:,.2f}\"})"
   ]
  },
  {
   "cell_type": "markdown",
   "metadata": {},
   "source": [
    "## Gender Demographics"
   ]
  },
  {
   "cell_type": "markdown",
   "metadata": {},
   "source": [
    "* Percentage and Count of Male Players\n",
    "\n",
    "\n",
    "* Percentage and Count of Female Players\n",
    "\n",
    "\n",
    "* Percentage and Count of Other / Non-Disclosed\n",
    "\n",
    "\n"
   ]
  },
  {
   "cell_type": "code",
   "execution_count": 184,
   "metadata": {},
   "outputs": [
    {
     "data": {
      "text/html": [
       "<style  type=\"text/css\" >\n",
       "</style><table id=\"T_fc556658_3ff0_11eb_b214_bc542fd6ae56\" ><thead>    <tr>        <th class=\"blank level0\" ></th>        <th class=\"col_heading level0 col0\" >Percentage of Players</th>        <th class=\"col_heading level0 col1\" >Total Count of Players</th>    </tr>    <tr>        <th class=\"index_name level0\" >Gender</th>        <th class=\"blank\" ></th>        <th class=\"blank\" ></th>    </tr></thead><tbody>\n",
       "                <tr>\n",
       "                        <th id=\"T_fc556658_3ff0_11eb_b214_bc542fd6ae56level0_row0\" class=\"row_heading level0 row0\" >Female</th>\n",
       "                        <td id=\"T_fc556658_3ff0_11eb_b214_bc542fd6ae56row0_col0\" class=\"data row0 col0\" >14.06%</td>\n",
       "                        <td id=\"T_fc556658_3ff0_11eb_b214_bc542fd6ae56row0_col1\" class=\"data row0 col1\" >81</td>\n",
       "            </tr>\n",
       "            <tr>\n",
       "                        <th id=\"T_fc556658_3ff0_11eb_b214_bc542fd6ae56level0_row1\" class=\"row_heading level0 row1\" >Male</th>\n",
       "                        <td id=\"T_fc556658_3ff0_11eb_b214_bc542fd6ae56row1_col0\" class=\"data row1 col0\" >84.03%</td>\n",
       "                        <td id=\"T_fc556658_3ff0_11eb_b214_bc542fd6ae56row1_col1\" class=\"data row1 col1\" >484</td>\n",
       "            </tr>\n",
       "            <tr>\n",
       "                        <th id=\"T_fc556658_3ff0_11eb_b214_bc542fd6ae56level0_row2\" class=\"row_heading level0 row2\" >Other / Non-Disclosed</th>\n",
       "                        <td id=\"T_fc556658_3ff0_11eb_b214_bc542fd6ae56row2_col0\" class=\"data row2 col0\" >1.91%</td>\n",
       "                        <td id=\"T_fc556658_3ff0_11eb_b214_bc542fd6ae56row2_col1\" class=\"data row2 col1\" >11</td>\n",
       "            </tr>\n",
       "    </tbody></table>"
      ],
      "text/plain": [
       "<pandas.io.formats.style.Styler at 0x1f2b3a89320>"
      ]
     },
     "execution_count": 184,
     "metadata": {},
     "output_type": "execute_result"
    }
   ],
   "source": [
    "#Group calculations by the \"Gender\" column\n",
    "grouped_by_gender = purchase_data_df.groupby(\"Gender\")\n",
    "\n",
    "#Calculate the unique SN by gender\n",
    "players_by_gender = grouped_by_gender[\"SN\"].nunique()\n",
    "\n",
    "#Calculate the percentage of players by gender\n",
    "percentage_players_gender = players_by_gender / total_players * 100\n",
    "\n",
    "#Calculate the gender count and percentage of players\n",
    "gender_demographics_df = pd.DataFrame({\"Percentage of Players\": percentage_players_gender, \"Total Count of Players\": players_by_gender})\n",
    "\n",
    "#Round the percentage column to two decimal points\n",
    "gender_demographics_df.style.format({\"Percentage of Players\":\"{:,.2f}%\"})\n"
   ]
  },
  {
   "cell_type": "markdown",
   "metadata": {},
   "source": [
    "\n",
    "## Purchasing Analysis (Gender)"
   ]
  },
  {
   "cell_type": "markdown",
   "metadata": {},
   "source": [
    "* Run basic calculations to obtain purchase count, avg. purchase price, avg. purchase total per person etc. by gender\n",
    "\n",
    "\n",
    "\n",
    "\n",
    "* Create a summary data frame to hold the results\n",
    "\n",
    "\n",
    "* Optional: give the displayed data cleaner formatting\n",
    "\n",
    "\n",
    "* Display the summary data frame"
   ]
  },
  {
   "cell_type": "code",
   "execution_count": 185,
   "metadata": {},
   "outputs": [
    {
     "data": {
      "text/html": [
       "<style  type=\"text/css\" >\n",
       "</style><table id=\"T_fe23b5fa_3ff0_11eb_9007_bc542fd6ae56\" ><thead>    <tr>        <th class=\"blank level0\" ></th>        <th class=\"col_heading level0 col0\" >Purchase Count</th>        <th class=\"col_heading level0 col1\" >Average Purchase Price</th>        <th class=\"col_heading level0 col2\" >Total Purchase Value</th>        <th class=\"col_heading level0 col3\" >Average Purchase Total per Person per Gender</th>    </tr>    <tr>        <th class=\"index_name level0\" >Gender</th>        <th class=\"blank\" ></th>        <th class=\"blank\" ></th>        <th class=\"blank\" ></th>        <th class=\"blank\" ></th>    </tr></thead><tbody>\n",
       "                <tr>\n",
       "                        <th id=\"T_fe23b5fa_3ff0_11eb_9007_bc542fd6ae56level0_row0\" class=\"row_heading level0 row0\" >Female</th>\n",
       "                        <td id=\"T_fe23b5fa_3ff0_11eb_9007_bc542fd6ae56row0_col0\" class=\"data row0 col0\" >113</td>\n",
       "                        <td id=\"T_fe23b5fa_3ff0_11eb_9007_bc542fd6ae56row0_col1\" class=\"data row0 col1\" >$3.20</td>\n",
       "                        <td id=\"T_fe23b5fa_3ff0_11eb_9007_bc542fd6ae56row0_col2\" class=\"data row0 col2\" >$361.94</td>\n",
       "                        <td id=\"T_fe23b5fa_3ff0_11eb_9007_bc542fd6ae56row0_col3\" class=\"data row0 col3\" >$4.47</td>\n",
       "            </tr>\n",
       "            <tr>\n",
       "                        <th id=\"T_fe23b5fa_3ff0_11eb_9007_bc542fd6ae56level0_row1\" class=\"row_heading level0 row1\" >Male</th>\n",
       "                        <td id=\"T_fe23b5fa_3ff0_11eb_9007_bc542fd6ae56row1_col0\" class=\"data row1 col0\" >652</td>\n",
       "                        <td id=\"T_fe23b5fa_3ff0_11eb_9007_bc542fd6ae56row1_col1\" class=\"data row1 col1\" >$3.02</td>\n",
       "                        <td id=\"T_fe23b5fa_3ff0_11eb_9007_bc542fd6ae56row1_col2\" class=\"data row1 col2\" >$1,967.64</td>\n",
       "                        <td id=\"T_fe23b5fa_3ff0_11eb_9007_bc542fd6ae56row1_col3\" class=\"data row1 col3\" >$4.07</td>\n",
       "            </tr>\n",
       "            <tr>\n",
       "                        <th id=\"T_fe23b5fa_3ff0_11eb_9007_bc542fd6ae56level0_row2\" class=\"row_heading level0 row2\" >Other / Non-Disclosed</th>\n",
       "                        <td id=\"T_fe23b5fa_3ff0_11eb_9007_bc542fd6ae56row2_col0\" class=\"data row2 col0\" >15</td>\n",
       "                        <td id=\"T_fe23b5fa_3ff0_11eb_9007_bc542fd6ae56row2_col1\" class=\"data row2 col1\" >$3.35</td>\n",
       "                        <td id=\"T_fe23b5fa_3ff0_11eb_9007_bc542fd6ae56row2_col2\" class=\"data row2 col2\" >$50.19</td>\n",
       "                        <td id=\"T_fe23b5fa_3ff0_11eb_9007_bc542fd6ae56row2_col3\" class=\"data row2 col3\" >$4.56</td>\n",
       "            </tr>\n",
       "    </tbody></table>"
      ],
      "text/plain": [
       "<pandas.io.formats.style.Styler at 0x1f2b499c8d0>"
      ]
     },
     "execution_count": 185,
     "metadata": {},
     "output_type": "execute_result"
    }
   ],
   "source": [
    "#Calculate the purchase count by gender\n",
    "purchase_count = grouped_by_gender[\"Purchase ID\"].count()\n",
    "\n",
    "#Calculate the average purchase price by gender\n",
    "average_purchase_price = grouped_by_gender[\"Price\"].mean()\n",
    "\n",
    "#Calculate the total purchase price by gender\n",
    "total_purchase_price = grouped_by_gender[\"Price\"].sum()\n",
    "\n",
    "#Calculate the average purchase total per person by gender\n",
    "average_per_person_total = total_purchase_price / players_by_gender\n",
    "\n",
    "\n",
    "# Create a summary data frame with obtained values \n",
    "purchases_by_gender_df = pd.DataFrame({\"Purchase Count\": purchase_count, \n",
    "                                    \"Average Purchase Price\": average_purchase_price,\n",
    "                                    \"Total Purchase Value\":total_purchase_price,\n",
    "                                    \"Average Purchase Total per Person per Gender\": average_per_person_total})\n",
    "\n",
    "# Format using currency and decimals\n",
    "purchases_by_gender_df.style.format({\"Average Purchase Price\": \"${:,.2f}\",\n",
    "                                    \"Total Purchase Value\": \"${:,.2f}\",\n",
    "                                    \"Average Purchase Total per Person per Gender\": \"${:,.2f}\"})"
   ]
  },
  {
   "cell_type": "markdown",
   "metadata": {},
   "source": [
    "## Age Demographics"
   ]
  },
  {
   "cell_type": "markdown",
   "metadata": {},
   "source": [
    "* Establish bins for ages\n",
    "\n",
    "\n",
    "* Categorize the existing players using the age bins. Hint: use pd.cut()\n",
    "\n",
    "\n",
    "* Calculate the numbers and percentages by age group\n",
    "\n",
    "\n",
    "* Create a summary data frame to hold the results\n",
    "\n",
    "\n",
    "* Optional: round the percentage column to two decimal points\n",
    "\n",
    "\n",
    "* Display Age Demographics Table\n"
   ]
  },
  {
   "cell_type": "code",
   "execution_count": 186,
   "metadata": {},
   "outputs": [
    {
     "data": {
      "text/html": [
       "<style  type=\"text/css\" >\n",
       "</style><table id=\"T_0011a9e2_3ff1_11eb_abcc_bc542fd6ae56\" ><thead>    <tr>        <th class=\"blank level0\" ></th>        <th class=\"col_heading level0 col0\" >Percentage of Players</th>        <th class=\"col_heading level0 col1\" >Total Count</th>    </tr>    <tr>        <th class=\"index_name level0\" >Age Group</th>        <th class=\"blank\" ></th>        <th class=\"blank\" ></th>    </tr></thead><tbody>\n",
       "                <tr>\n",
       "                        <th id=\"T_0011a9e2_3ff1_11eb_abcc_bc542fd6ae56level0_row0\" class=\"row_heading level0 row0\" ><10</th>\n",
       "                        <td id=\"T_0011a9e2_3ff1_11eb_abcc_bc542fd6ae56row0_col0\" class=\"data row0 col0\" >2.95%</td>\n",
       "                        <td id=\"T_0011a9e2_3ff1_11eb_abcc_bc542fd6ae56row0_col1\" class=\"data row0 col1\" >17</td>\n",
       "            </tr>\n",
       "            <tr>\n",
       "                        <th id=\"T_0011a9e2_3ff1_11eb_abcc_bc542fd6ae56level0_row1\" class=\"row_heading level0 row1\" >10-14</th>\n",
       "                        <td id=\"T_0011a9e2_3ff1_11eb_abcc_bc542fd6ae56row1_col0\" class=\"data row1 col0\" >3.82%</td>\n",
       "                        <td id=\"T_0011a9e2_3ff1_11eb_abcc_bc542fd6ae56row1_col1\" class=\"data row1 col1\" >22</td>\n",
       "            </tr>\n",
       "            <tr>\n",
       "                        <th id=\"T_0011a9e2_3ff1_11eb_abcc_bc542fd6ae56level0_row2\" class=\"row_heading level0 row2\" >15-19</th>\n",
       "                        <td id=\"T_0011a9e2_3ff1_11eb_abcc_bc542fd6ae56row2_col0\" class=\"data row2 col0\" >18.58%</td>\n",
       "                        <td id=\"T_0011a9e2_3ff1_11eb_abcc_bc542fd6ae56row2_col1\" class=\"data row2 col1\" >107</td>\n",
       "            </tr>\n",
       "            <tr>\n",
       "                        <th id=\"T_0011a9e2_3ff1_11eb_abcc_bc542fd6ae56level0_row3\" class=\"row_heading level0 row3\" >20-24</th>\n",
       "                        <td id=\"T_0011a9e2_3ff1_11eb_abcc_bc542fd6ae56row3_col0\" class=\"data row3 col0\" >44.79%</td>\n",
       "                        <td id=\"T_0011a9e2_3ff1_11eb_abcc_bc542fd6ae56row3_col1\" class=\"data row3 col1\" >258</td>\n",
       "            </tr>\n",
       "            <tr>\n",
       "                        <th id=\"T_0011a9e2_3ff1_11eb_abcc_bc542fd6ae56level0_row4\" class=\"row_heading level0 row4\" >25-29</th>\n",
       "                        <td id=\"T_0011a9e2_3ff1_11eb_abcc_bc542fd6ae56row4_col0\" class=\"data row4 col0\" >13.37%</td>\n",
       "                        <td id=\"T_0011a9e2_3ff1_11eb_abcc_bc542fd6ae56row4_col1\" class=\"data row4 col1\" >77</td>\n",
       "            </tr>\n",
       "            <tr>\n",
       "                        <th id=\"T_0011a9e2_3ff1_11eb_abcc_bc542fd6ae56level0_row5\" class=\"row_heading level0 row5\" >30-34</th>\n",
       "                        <td id=\"T_0011a9e2_3ff1_11eb_abcc_bc542fd6ae56row5_col0\" class=\"data row5 col0\" >9.03%</td>\n",
       "                        <td id=\"T_0011a9e2_3ff1_11eb_abcc_bc542fd6ae56row5_col1\" class=\"data row5 col1\" >52</td>\n",
       "            </tr>\n",
       "            <tr>\n",
       "                        <th id=\"T_0011a9e2_3ff1_11eb_abcc_bc542fd6ae56level0_row6\" class=\"row_heading level0 row6\" >35-39</th>\n",
       "                        <td id=\"T_0011a9e2_3ff1_11eb_abcc_bc542fd6ae56row6_col0\" class=\"data row6 col0\" >5.38%</td>\n",
       "                        <td id=\"T_0011a9e2_3ff1_11eb_abcc_bc542fd6ae56row6_col1\" class=\"data row6 col1\" >31</td>\n",
       "            </tr>\n",
       "            <tr>\n",
       "                        <th id=\"T_0011a9e2_3ff1_11eb_abcc_bc542fd6ae56level0_row7\" class=\"row_heading level0 row7\" >40+</th>\n",
       "                        <td id=\"T_0011a9e2_3ff1_11eb_abcc_bc542fd6ae56row7_col0\" class=\"data row7 col0\" >2.08%</td>\n",
       "                        <td id=\"T_0011a9e2_3ff1_11eb_abcc_bc542fd6ae56row7_col1\" class=\"data row7 col1\" >12</td>\n",
       "            </tr>\n",
       "    </tbody></table>"
      ],
      "text/plain": [
       "<pandas.io.formats.style.Styler at 0x1f2b3a89ac8>"
      ]
     },
     "execution_count": 186,
     "metadata": {},
     "output_type": "execute_result"
    }
   ],
   "source": [
    "#Create bins by age for the purchase data\n",
    "age_bins = [0, 9.99, 14.99, 19.99, 24.99, 29.99, 34.99, 39.99, 200]\n",
    "age_names = [\"<10\", \"10-14\", \"15-19\", \"20-24\", \"25-29\", \"30-34\", \"35-39\", \"40+\"]\n",
    "\n",
    "purchase_data_df[\"Age Group\"] = pd.cut(purchase_data_df[\"Age\"], age_bins, labels=age_names)\n",
    "\n",
    "#Group calculations by the \"Age Group\" column\n",
    "grouped_by_age = purchase_data_df.groupby(\"Age Group\")\n",
    "\n",
    "#Calculate the unique SN by age group\n",
    "players_by_age = grouped_by_age[\"SN\"].nunique()\n",
    "\n",
    "#Calculate the percentage of players by age\n",
    "percentage_players_age = (players_by_age / total_players) * 100\n",
    "\n",
    "#Calculate the age count and percentage of players\n",
    "age_demographics_df = pd.DataFrame({\"Percentage of Players\": percentage_players_age, \"Total Count\": players_by_age})\n",
    "\n",
    "#Round the percentage column to two decimal points\n",
    "age_demographics_df.style.format({\"Percentage of Players\":\"{:,.2f}%\"})\n"
   ]
  },
  {
   "cell_type": "markdown",
   "metadata": {},
   "source": [
    "## Purchasing Analysis (Age)"
   ]
  },
  {
   "cell_type": "markdown",
   "metadata": {},
   "source": [
    "* Bin the purchase_data data frame by age\n",
    "\n",
    "\n",
    "* Run basic calculations to obtain purchase count, avg. purchase price, avg. purchase total per person etc. in the table below\n",
    "\n",
    "\n",
    "* Create a summary data frame to hold the results\n",
    "\n",
    "\n",
    "* Optional: give the displayed data cleaner formatting\n",
    "\n",
    "\n",
    "* Display the summary data frame"
   ]
  },
  {
   "cell_type": "code",
   "execution_count": 187,
   "metadata": {
    "scrolled": true
   },
   "outputs": [
    {
     "data": {
      "text/html": [
       "<style  type=\"text/css\" >\n",
       "</style><table id=\"T_016d5106_3ff1_11eb_9326_bc542fd6ae56\" ><thead>    <tr>        <th class=\"blank level0\" ></th>        <th class=\"col_heading level0 col0\" >Purchase Count</th>        <th class=\"col_heading level0 col1\" >Average Purchase Price</th>        <th class=\"col_heading level0 col2\" >Total Purchase Value</th>        <th class=\"col_heading level0 col3\" >Average Purchase Total per Person by Age Group</th>    </tr>    <tr>        <th class=\"index_name level0\" >Age Group</th>        <th class=\"blank\" ></th>        <th class=\"blank\" ></th>        <th class=\"blank\" ></th>        <th class=\"blank\" ></th>    </tr></thead><tbody>\n",
       "                <tr>\n",
       "                        <th id=\"T_016d5106_3ff1_11eb_9326_bc542fd6ae56level0_row0\" class=\"row_heading level0 row0\" ><10</th>\n",
       "                        <td id=\"T_016d5106_3ff1_11eb_9326_bc542fd6ae56row0_col0\" class=\"data row0 col0\" >23</td>\n",
       "                        <td id=\"T_016d5106_3ff1_11eb_9326_bc542fd6ae56row0_col1\" class=\"data row0 col1\" >$3.35</td>\n",
       "                        <td id=\"T_016d5106_3ff1_11eb_9326_bc542fd6ae56row0_col2\" class=\"data row0 col2\" >$77.13</td>\n",
       "                        <td id=\"T_016d5106_3ff1_11eb_9326_bc542fd6ae56row0_col3\" class=\"data row0 col3\" >$4.54</td>\n",
       "            </tr>\n",
       "            <tr>\n",
       "                        <th id=\"T_016d5106_3ff1_11eb_9326_bc542fd6ae56level0_row1\" class=\"row_heading level0 row1\" >10-14</th>\n",
       "                        <td id=\"T_016d5106_3ff1_11eb_9326_bc542fd6ae56row1_col0\" class=\"data row1 col0\" >28</td>\n",
       "                        <td id=\"T_016d5106_3ff1_11eb_9326_bc542fd6ae56row1_col1\" class=\"data row1 col1\" >$2.96</td>\n",
       "                        <td id=\"T_016d5106_3ff1_11eb_9326_bc542fd6ae56row1_col2\" class=\"data row1 col2\" >$82.78</td>\n",
       "                        <td id=\"T_016d5106_3ff1_11eb_9326_bc542fd6ae56row1_col3\" class=\"data row1 col3\" >$3.76</td>\n",
       "            </tr>\n",
       "            <tr>\n",
       "                        <th id=\"T_016d5106_3ff1_11eb_9326_bc542fd6ae56level0_row2\" class=\"row_heading level0 row2\" >15-19</th>\n",
       "                        <td id=\"T_016d5106_3ff1_11eb_9326_bc542fd6ae56row2_col0\" class=\"data row2 col0\" >136</td>\n",
       "                        <td id=\"T_016d5106_3ff1_11eb_9326_bc542fd6ae56row2_col1\" class=\"data row2 col1\" >$3.04</td>\n",
       "                        <td id=\"T_016d5106_3ff1_11eb_9326_bc542fd6ae56row2_col2\" class=\"data row2 col2\" >$412.89</td>\n",
       "                        <td id=\"T_016d5106_3ff1_11eb_9326_bc542fd6ae56row2_col3\" class=\"data row2 col3\" >$3.86</td>\n",
       "            </tr>\n",
       "            <tr>\n",
       "                        <th id=\"T_016d5106_3ff1_11eb_9326_bc542fd6ae56level0_row3\" class=\"row_heading level0 row3\" >20-24</th>\n",
       "                        <td id=\"T_016d5106_3ff1_11eb_9326_bc542fd6ae56row3_col0\" class=\"data row3 col0\" >365</td>\n",
       "                        <td id=\"T_016d5106_3ff1_11eb_9326_bc542fd6ae56row3_col1\" class=\"data row3 col1\" >$3.05</td>\n",
       "                        <td id=\"T_016d5106_3ff1_11eb_9326_bc542fd6ae56row3_col2\" class=\"data row3 col2\" >$1,114.06</td>\n",
       "                        <td id=\"T_016d5106_3ff1_11eb_9326_bc542fd6ae56row3_col3\" class=\"data row3 col3\" >$4.32</td>\n",
       "            </tr>\n",
       "            <tr>\n",
       "                        <th id=\"T_016d5106_3ff1_11eb_9326_bc542fd6ae56level0_row4\" class=\"row_heading level0 row4\" >25-29</th>\n",
       "                        <td id=\"T_016d5106_3ff1_11eb_9326_bc542fd6ae56row4_col0\" class=\"data row4 col0\" >101</td>\n",
       "                        <td id=\"T_016d5106_3ff1_11eb_9326_bc542fd6ae56row4_col1\" class=\"data row4 col1\" >$2.90</td>\n",
       "                        <td id=\"T_016d5106_3ff1_11eb_9326_bc542fd6ae56row4_col2\" class=\"data row4 col2\" >$293.00</td>\n",
       "                        <td id=\"T_016d5106_3ff1_11eb_9326_bc542fd6ae56row4_col3\" class=\"data row4 col3\" >$3.81</td>\n",
       "            </tr>\n",
       "            <tr>\n",
       "                        <th id=\"T_016d5106_3ff1_11eb_9326_bc542fd6ae56level0_row5\" class=\"row_heading level0 row5\" >30-34</th>\n",
       "                        <td id=\"T_016d5106_3ff1_11eb_9326_bc542fd6ae56row5_col0\" class=\"data row5 col0\" >73</td>\n",
       "                        <td id=\"T_016d5106_3ff1_11eb_9326_bc542fd6ae56row5_col1\" class=\"data row5 col1\" >$2.93</td>\n",
       "                        <td id=\"T_016d5106_3ff1_11eb_9326_bc542fd6ae56row5_col2\" class=\"data row5 col2\" >$214.00</td>\n",
       "                        <td id=\"T_016d5106_3ff1_11eb_9326_bc542fd6ae56row5_col3\" class=\"data row5 col3\" >$4.12</td>\n",
       "            </tr>\n",
       "            <tr>\n",
       "                        <th id=\"T_016d5106_3ff1_11eb_9326_bc542fd6ae56level0_row6\" class=\"row_heading level0 row6\" >35-39</th>\n",
       "                        <td id=\"T_016d5106_3ff1_11eb_9326_bc542fd6ae56row6_col0\" class=\"data row6 col0\" >41</td>\n",
       "                        <td id=\"T_016d5106_3ff1_11eb_9326_bc542fd6ae56row6_col1\" class=\"data row6 col1\" >$3.60</td>\n",
       "                        <td id=\"T_016d5106_3ff1_11eb_9326_bc542fd6ae56row6_col2\" class=\"data row6 col2\" >$147.67</td>\n",
       "                        <td id=\"T_016d5106_3ff1_11eb_9326_bc542fd6ae56row6_col3\" class=\"data row6 col3\" >$4.76</td>\n",
       "            </tr>\n",
       "            <tr>\n",
       "                        <th id=\"T_016d5106_3ff1_11eb_9326_bc542fd6ae56level0_row7\" class=\"row_heading level0 row7\" >40+</th>\n",
       "                        <td id=\"T_016d5106_3ff1_11eb_9326_bc542fd6ae56row7_col0\" class=\"data row7 col0\" >13</td>\n",
       "                        <td id=\"T_016d5106_3ff1_11eb_9326_bc542fd6ae56row7_col1\" class=\"data row7 col1\" >$2.94</td>\n",
       "                        <td id=\"T_016d5106_3ff1_11eb_9326_bc542fd6ae56row7_col2\" class=\"data row7 col2\" >$38.24</td>\n",
       "                        <td id=\"T_016d5106_3ff1_11eb_9326_bc542fd6ae56row7_col3\" class=\"data row7 col3\" >$3.19</td>\n",
       "            </tr>\n",
       "    </tbody></table>"
      ],
      "text/plain": [
       "<pandas.io.formats.style.Styler at 0x1f2b3a9d940>"
      ]
     },
     "execution_count": 187,
     "metadata": {},
     "output_type": "execute_result"
    }
   ],
   "source": [
    "#Create bins by age for the purchase data\n",
    "age_bins = [0, 9.99, 14.99, 19.99, 24.99, 29.99, 34.99, 39.99, 200]\n",
    "age_names = [\"<10\", \"10-14\", \"15-19\", \"20-24\", \"25-29\", \"30-34\", \"35-39\", \"40+\"]\n",
    "\n",
    "purchase_data_df[\"Age Group\"] = pd.cut(purchase_data_df[\"Age\"], age_bins, labels=age_names)\n",
    "\n",
    "grouped_by_age = purchase_data_df.groupby(\"Age Group\")\n",
    "\n",
    "#Calculate the unique SN by age\n",
    "players_by_age = grouped_by_age[\"SN\"].nunique()\n",
    "\n",
    "#Calculate the purchase count by age group\n",
    "purchase_count_age = grouped_by_age[\"Purchase ID\"].count()\n",
    "\n",
    "#Calculate the average purchase price by gender\n",
    "average_purchase_price_age = grouped_by_age[\"Price\"].mean()\n",
    "\n",
    "#Calculate the total purchase price by gender\n",
    "total_purchase_price_age = grouped_by_age[\"Price\"].sum()\n",
    "\n",
    "#Calculate the average purchase total per person by gender\n",
    "average_per_person_total_age = total_purchase_price_age / players_by_age\n",
    "\n",
    "# Create a summary data frame with obtained values \n",
    "purchases_by_age_df = pd.DataFrame({\"Purchase Count\": purchase_count_age, \n",
    "                                    \"Average Purchase Price\": average_purchase_price_age,\n",
    "                                    \"Total Purchase Value\":total_purchase_price_age,\n",
    "                                    \"Average Purchase Total per Person by Age Group\": average_per_person_total_age})\n",
    "\n",
    "# Format using currency and decimals\n",
    "purchases_by_age_df.style.format({\"Average Purchase Price\": \"${:,.2f}\",\n",
    "                                    \"Total Purchase Value\": \"${:,.2f}\",\n",
    "                                    \"Average Purchase Total per Person by Age Group\": \"${:,.2f}\"})"
   ]
  },
  {
   "cell_type": "markdown",
   "metadata": {},
   "source": [
    "## Top Spenders"
   ]
  },
  {
   "cell_type": "markdown",
   "metadata": {},
   "source": [
    "* Run basic calculations to obtain the results in the table below\n",
    "\n",
    "\n",
    "* Create a summary data frame to hold the results\n",
    "\n",
    "\n",
    "* Sort the total purchase value column in descending order\n",
    "\n",
    "\n",
    "* Optional: give the displayed data cleaner formatting\n",
    "\n",
    "\n",
    "* Display a preview of the summary data frame\n",
    "\n"
   ]
  },
  {
   "cell_type": "code",
   "execution_count": 188,
   "metadata": {},
   "outputs": [
    {
     "data": {
      "text/html": [
       "<style  type=\"text/css\" >\n",
       "</style><table id=\"T_03ba8c98_3ff1_11eb_9e70_bc542fd6ae56\" ><thead>    <tr>        <th class=\"blank level0\" ></th>        <th class=\"col_heading level0 col0\" >Purchase Count</th>        <th class=\"col_heading level0 col1\" >Average Purchase Price</th>        <th class=\"col_heading level0 col2\" >Total Purchase Value</th>    </tr>    <tr>        <th class=\"index_name level0\" >SN</th>        <th class=\"blank\" ></th>        <th class=\"blank\" ></th>        <th class=\"blank\" ></th>    </tr></thead><tbody>\n",
       "                <tr>\n",
       "                        <th id=\"T_03ba8c98_3ff1_11eb_9e70_bc542fd6ae56level0_row0\" class=\"row_heading level0 row0\" >Lisosia93</th>\n",
       "                        <td id=\"T_03ba8c98_3ff1_11eb_9e70_bc542fd6ae56row0_col0\" class=\"data row0 col0\" >5</td>\n",
       "                        <td id=\"T_03ba8c98_3ff1_11eb_9e70_bc542fd6ae56row0_col1\" class=\"data row0 col1\" >$3.79</td>\n",
       "                        <td id=\"T_03ba8c98_3ff1_11eb_9e70_bc542fd6ae56row0_col2\" class=\"data row0 col2\" >$18.96</td>\n",
       "            </tr>\n",
       "            <tr>\n",
       "                        <th id=\"T_03ba8c98_3ff1_11eb_9e70_bc542fd6ae56level0_row1\" class=\"row_heading level0 row1\" >Idastidru52</th>\n",
       "                        <td id=\"T_03ba8c98_3ff1_11eb_9e70_bc542fd6ae56row1_col0\" class=\"data row1 col0\" >4</td>\n",
       "                        <td id=\"T_03ba8c98_3ff1_11eb_9e70_bc542fd6ae56row1_col1\" class=\"data row1 col1\" >$3.86</td>\n",
       "                        <td id=\"T_03ba8c98_3ff1_11eb_9e70_bc542fd6ae56row1_col2\" class=\"data row1 col2\" >$15.45</td>\n",
       "            </tr>\n",
       "            <tr>\n",
       "                        <th id=\"T_03ba8c98_3ff1_11eb_9e70_bc542fd6ae56level0_row2\" class=\"row_heading level0 row2\" >Chamjask73</th>\n",
       "                        <td id=\"T_03ba8c98_3ff1_11eb_9e70_bc542fd6ae56row2_col0\" class=\"data row2 col0\" >3</td>\n",
       "                        <td id=\"T_03ba8c98_3ff1_11eb_9e70_bc542fd6ae56row2_col1\" class=\"data row2 col1\" >$4.61</td>\n",
       "                        <td id=\"T_03ba8c98_3ff1_11eb_9e70_bc542fd6ae56row2_col2\" class=\"data row2 col2\" >$13.83</td>\n",
       "            </tr>\n",
       "            <tr>\n",
       "                        <th id=\"T_03ba8c98_3ff1_11eb_9e70_bc542fd6ae56level0_row3\" class=\"row_heading level0 row3\" >Iral74</th>\n",
       "                        <td id=\"T_03ba8c98_3ff1_11eb_9e70_bc542fd6ae56row3_col0\" class=\"data row3 col0\" >4</td>\n",
       "                        <td id=\"T_03ba8c98_3ff1_11eb_9e70_bc542fd6ae56row3_col1\" class=\"data row3 col1\" >$3.40</td>\n",
       "                        <td id=\"T_03ba8c98_3ff1_11eb_9e70_bc542fd6ae56row3_col2\" class=\"data row3 col2\" >$13.62</td>\n",
       "            </tr>\n",
       "            <tr>\n",
       "                        <th id=\"T_03ba8c98_3ff1_11eb_9e70_bc542fd6ae56level0_row4\" class=\"row_heading level0 row4\" >Iskadarya95</th>\n",
       "                        <td id=\"T_03ba8c98_3ff1_11eb_9e70_bc542fd6ae56row4_col0\" class=\"data row4 col0\" >3</td>\n",
       "                        <td id=\"T_03ba8c98_3ff1_11eb_9e70_bc542fd6ae56row4_col1\" class=\"data row4 col1\" >$4.37</td>\n",
       "                        <td id=\"T_03ba8c98_3ff1_11eb_9e70_bc542fd6ae56row4_col2\" class=\"data row4 col2\" >$13.10</td>\n",
       "            </tr>\n",
       "    </tbody></table>"
      ],
      "text/plain": [
       "<pandas.io.formats.style.Styler at 0x1f2b49ec390>"
      ]
     },
     "execution_count": 188,
     "metadata": {},
     "output_type": "execute_result"
    }
   ],
   "source": [
    "#Group calculations by the Screen Name column\n",
    "grouped_by_screen_name = purchase_data_df.groupby(\"SN\")\n",
    "\n",
    "#Calculate the total number of purchases by SN\n",
    "purchase_count_spender = grouped_by_screen_name[\"Purchase ID\"].count()\n",
    "\n",
    "#Calculate the average price\n",
    "average_purchase_price_spender = grouped_by_screen_name[\"Price\"].mean()\n",
    "\n",
    "#Calculate the Total Purchases by SN\n",
    "total_purchases_spender = grouped_by_screen_name[\"Price\"].sum()\n",
    "\n",
    "#Create a summary frame to hold the results\n",
    "spender_summary = pd.DataFrame({\"Purchase Count\":purchase_count_spender, \n",
    "                               \"Average Purchase Price\":average_purchase_price_spender, \n",
    "                               \"Total Purchase Value\": total_purchases_spender})\n",
    "\n",
    "#Format to sort total purchase value in descending order\n",
    "descending_spenders = spender_summary.sort_values([\"Total Purchase Value\"], ascending=False).head(5)\n",
    "\n",
    "# Format using currency and decimals\n",
    "descending_spenders.style.format({\"Average Purchase Price\": \"${:,.2f}\",\n",
    "                        \"Total Purchase Value\": \"${:,.2f}\"})"
   ]
  },
  {
   "cell_type": "markdown",
   "metadata": {},
   "source": [
    "## Most Popular Items"
   ]
  },
  {
   "cell_type": "markdown",
   "metadata": {},
   "source": [
    "* Retrieve the Item ID, Item Name, and Item Price columns\n",
    "\n",
    "\n",
    "* Group by Item ID and Item Name. Perform calculations to obtain purchase count, average item price, and total purchase value\n",
    "\n",
    "\n",
    "* Create a summary data frame to hold the results\n",
    "\n",
    "\n",
    "* Sort the purchase count column in descending order\n",
    "\n",
    "\n",
    "* Optional: give the displayed data cleaner formatting\n",
    "\n",
    "\n",
    "* Display a preview of the summary data frame\n",
    "\n"
   ]
  },
  {
   "cell_type": "code",
   "execution_count": 189,
   "metadata": {},
   "outputs": [
    {
     "data": {
      "text/html": [
       "<style  type=\"text/css\" >\n",
       "</style><table id=\"T_05a57b0a_3ff1_11eb_b925_bc542fd6ae56\" ><thead>    <tr>        <th class=\"blank\" ></th>        <th class=\"blank level0\" ></th>        <th class=\"col_heading level0 col0\" >Purchase Count</th>        <th class=\"col_heading level0 col1\" >Average Item Price</th>        <th class=\"col_heading level0 col2\" >Total Purchase Value</th>    </tr>    <tr>        <th class=\"index_name level0\" >Item ID</th>        <th class=\"index_name level1\" >Item Name</th>        <th class=\"blank\" ></th>        <th class=\"blank\" ></th>        <th class=\"blank\" ></th>    </tr></thead><tbody>\n",
       "                <tr>\n",
       "                        <th id=\"T_05a57b0a_3ff1_11eb_b925_bc542fd6ae56level0_row0\" class=\"row_heading level0 row0\" >92</th>\n",
       "                        <th id=\"T_05a57b0a_3ff1_11eb_b925_bc542fd6ae56level1_row0\" class=\"row_heading level1 row0\" >Final Critic</th>\n",
       "                        <td id=\"T_05a57b0a_3ff1_11eb_b925_bc542fd6ae56row0_col0\" class=\"data row0 col0\" >13</td>\n",
       "                        <td id=\"T_05a57b0a_3ff1_11eb_b925_bc542fd6ae56row0_col1\" class=\"data row0 col1\" >$4.61</td>\n",
       "                        <td id=\"T_05a57b0a_3ff1_11eb_b925_bc542fd6ae56row0_col2\" class=\"data row0 col2\" >$59.99</td>\n",
       "            </tr>\n",
       "            <tr>\n",
       "                        <th id=\"T_05a57b0a_3ff1_11eb_b925_bc542fd6ae56level0_row1\" class=\"row_heading level0 row1\" >178</th>\n",
       "                        <th id=\"T_05a57b0a_3ff1_11eb_b925_bc542fd6ae56level1_row1\" class=\"row_heading level1 row1\" >Oathbreaker, Last Hope of the Breaking Storm</th>\n",
       "                        <td id=\"T_05a57b0a_3ff1_11eb_b925_bc542fd6ae56row1_col0\" class=\"data row1 col0\" >12</td>\n",
       "                        <td id=\"T_05a57b0a_3ff1_11eb_b925_bc542fd6ae56row1_col1\" class=\"data row1 col1\" >$4.23</td>\n",
       "                        <td id=\"T_05a57b0a_3ff1_11eb_b925_bc542fd6ae56row1_col2\" class=\"data row1 col2\" >$50.76</td>\n",
       "            </tr>\n",
       "            <tr>\n",
       "                        <th id=\"T_05a57b0a_3ff1_11eb_b925_bc542fd6ae56level0_row2\" class=\"row_heading level0 row2\" >82</th>\n",
       "                        <th id=\"T_05a57b0a_3ff1_11eb_b925_bc542fd6ae56level1_row2\" class=\"row_heading level1 row2\" >Nirvana</th>\n",
       "                        <td id=\"T_05a57b0a_3ff1_11eb_b925_bc542fd6ae56row2_col0\" class=\"data row2 col0\" >9</td>\n",
       "                        <td id=\"T_05a57b0a_3ff1_11eb_b925_bc542fd6ae56row2_col1\" class=\"data row2 col1\" >$4.90</td>\n",
       "                        <td id=\"T_05a57b0a_3ff1_11eb_b925_bc542fd6ae56row2_col2\" class=\"data row2 col2\" >$44.10</td>\n",
       "            </tr>\n",
       "            <tr>\n",
       "                        <th id=\"T_05a57b0a_3ff1_11eb_b925_bc542fd6ae56level0_row3\" class=\"row_heading level0 row3\" >145</th>\n",
       "                        <th id=\"T_05a57b0a_3ff1_11eb_b925_bc542fd6ae56level1_row3\" class=\"row_heading level1 row3\" >Fiery Glass Crusader</th>\n",
       "                        <td id=\"T_05a57b0a_3ff1_11eb_b925_bc542fd6ae56row3_col0\" class=\"data row3 col0\" >9</td>\n",
       "                        <td id=\"T_05a57b0a_3ff1_11eb_b925_bc542fd6ae56row3_col1\" class=\"data row3 col1\" >$4.58</td>\n",
       "                        <td id=\"T_05a57b0a_3ff1_11eb_b925_bc542fd6ae56row3_col2\" class=\"data row3 col2\" >$41.22</td>\n",
       "            </tr>\n",
       "            <tr>\n",
       "                        <th id=\"T_05a57b0a_3ff1_11eb_b925_bc542fd6ae56level0_row4\" class=\"row_heading level0 row4\" >103</th>\n",
       "                        <th id=\"T_05a57b0a_3ff1_11eb_b925_bc542fd6ae56level1_row4\" class=\"row_heading level1 row4\" >Singed Scalpel</th>\n",
       "                        <td id=\"T_05a57b0a_3ff1_11eb_b925_bc542fd6ae56row4_col0\" class=\"data row4 col0\" >8</td>\n",
       "                        <td id=\"T_05a57b0a_3ff1_11eb_b925_bc542fd6ae56row4_col1\" class=\"data row4 col1\" >$4.35</td>\n",
       "                        <td id=\"T_05a57b0a_3ff1_11eb_b925_bc542fd6ae56row4_col2\" class=\"data row4 col2\" >$34.80</td>\n",
       "            </tr>\n",
       "    </tbody></table>"
      ],
      "text/plain": [
       "<pandas.io.formats.style.Styler at 0x1f2b494f0f0>"
      ]
     },
     "execution_count": 189,
     "metadata": {},
     "output_type": "execute_result"
    }
   ],
   "source": [
    "#Create a most popular items data frame\n",
    "popular_items = purchase_data_df[[\"Item ID\", \"Item Name\", \"Price\"]]\n",
    "\n",
    "#Group the Item ID and Item Name\n",
    "item_attributes = popular_items.groupby([\"Item ID\", \"Item Name\"])\n",
    "\n",
    "#Calculate the purchase count\n",
    "item_purchase_count = item_attributes[\"Price\"].count()\n",
    "\n",
    "#Calculate the average item price\n",
    "average_item_price = item_attributes[\"Price\"].mean()\n",
    "\n",
    "#Calculate the total purchase value\n",
    "total_purchase_value = item_attributes[\"Price\"].sum()\n",
    "\n",
    "#Create a summary frame to hold the results\n",
    "item_summary = pd.DataFrame({\"Purchase Count\":item_purchase_count, \n",
    "                               \"Average Item Price\":average_item_price, \n",
    "                               \"Total Purchase Value\": total_purchase_value})\n",
    "\n",
    "#Format to sort purchase count column in descending order\n",
    "descending_items = item_summary.sort_values([\"Total Purchase Value\"], ascending=False).head(5)\n",
    "\n",
    "# Format using currency and decimals\n",
    "descending_items.style.format({\"Average Item Price\": \"${:,.2f}\",\n",
    "                                \"Total Purchase Value\": \"${:,.2f}\"})"
   ]
  },
  {
   "cell_type": "markdown",
   "metadata": {},
   "source": [
    "## Most Profitable Items"
   ]
  },
  {
   "cell_type": "markdown",
   "metadata": {},
   "source": [
    "* Sort the above table by total purchase value in descending order\n",
    "\n",
    "\n",
    "* Optional: give the displayed data cleaner formatting\n",
    "\n",
    "\n",
    "* Display a preview of the data frame\n",
    "\n"
   ]
  },
  {
   "cell_type": "code",
   "execution_count": 190,
   "metadata": {
    "scrolled": true
   },
   "outputs": [
    {
     "data": {
      "text/html": [
       "<style  type=\"text/css\" >\n",
       "</style><table id=\"T_072d189e_3ff1_11eb_8eee_bc542fd6ae56\" ><thead>    <tr>        <th class=\"blank\" ></th>        <th class=\"blank level0\" ></th>        <th class=\"col_heading level0 col0\" >Purchase Count</th>        <th class=\"col_heading level0 col1\" >Average Item Price</th>        <th class=\"col_heading level0 col2\" >Total Purchase Value</th>    </tr>    <tr>        <th class=\"index_name level0\" >Item ID</th>        <th class=\"index_name level1\" >Item Name</th>        <th class=\"blank\" ></th>        <th class=\"blank\" ></th>        <th class=\"blank\" ></th>    </tr></thead><tbody>\n",
       "                <tr>\n",
       "                        <th id=\"T_072d189e_3ff1_11eb_8eee_bc542fd6ae56level0_row0\" class=\"row_heading level0 row0\" >92</th>\n",
       "                        <th id=\"T_072d189e_3ff1_11eb_8eee_bc542fd6ae56level1_row0\" class=\"row_heading level1 row0\" >Final Critic</th>\n",
       "                        <td id=\"T_072d189e_3ff1_11eb_8eee_bc542fd6ae56row0_col0\" class=\"data row0 col0\" >13</td>\n",
       "                        <td id=\"T_072d189e_3ff1_11eb_8eee_bc542fd6ae56row0_col1\" class=\"data row0 col1\" >$4.61</td>\n",
       "                        <td id=\"T_072d189e_3ff1_11eb_8eee_bc542fd6ae56row0_col2\" class=\"data row0 col2\" >$59.99</td>\n",
       "            </tr>\n",
       "            <tr>\n",
       "                        <th id=\"T_072d189e_3ff1_11eb_8eee_bc542fd6ae56level0_row1\" class=\"row_heading level0 row1\" >178</th>\n",
       "                        <th id=\"T_072d189e_3ff1_11eb_8eee_bc542fd6ae56level1_row1\" class=\"row_heading level1 row1\" >Oathbreaker, Last Hope of the Breaking Storm</th>\n",
       "                        <td id=\"T_072d189e_3ff1_11eb_8eee_bc542fd6ae56row1_col0\" class=\"data row1 col0\" >12</td>\n",
       "                        <td id=\"T_072d189e_3ff1_11eb_8eee_bc542fd6ae56row1_col1\" class=\"data row1 col1\" >$4.23</td>\n",
       "                        <td id=\"T_072d189e_3ff1_11eb_8eee_bc542fd6ae56row1_col2\" class=\"data row1 col2\" >$50.76</td>\n",
       "            </tr>\n",
       "            <tr>\n",
       "                        <th id=\"T_072d189e_3ff1_11eb_8eee_bc542fd6ae56level0_row2\" class=\"row_heading level0 row2\" >82</th>\n",
       "                        <th id=\"T_072d189e_3ff1_11eb_8eee_bc542fd6ae56level1_row2\" class=\"row_heading level1 row2\" >Nirvana</th>\n",
       "                        <td id=\"T_072d189e_3ff1_11eb_8eee_bc542fd6ae56row2_col0\" class=\"data row2 col0\" >9</td>\n",
       "                        <td id=\"T_072d189e_3ff1_11eb_8eee_bc542fd6ae56row2_col1\" class=\"data row2 col1\" >$4.90</td>\n",
       "                        <td id=\"T_072d189e_3ff1_11eb_8eee_bc542fd6ae56row2_col2\" class=\"data row2 col2\" >$44.10</td>\n",
       "            </tr>\n",
       "            <tr>\n",
       "                        <th id=\"T_072d189e_3ff1_11eb_8eee_bc542fd6ae56level0_row3\" class=\"row_heading level0 row3\" >145</th>\n",
       "                        <th id=\"T_072d189e_3ff1_11eb_8eee_bc542fd6ae56level1_row3\" class=\"row_heading level1 row3\" >Fiery Glass Crusader</th>\n",
       "                        <td id=\"T_072d189e_3ff1_11eb_8eee_bc542fd6ae56row3_col0\" class=\"data row3 col0\" >9</td>\n",
       "                        <td id=\"T_072d189e_3ff1_11eb_8eee_bc542fd6ae56row3_col1\" class=\"data row3 col1\" >$4.58</td>\n",
       "                        <td id=\"T_072d189e_3ff1_11eb_8eee_bc542fd6ae56row3_col2\" class=\"data row3 col2\" >$41.22</td>\n",
       "            </tr>\n",
       "            <tr>\n",
       "                        <th id=\"T_072d189e_3ff1_11eb_8eee_bc542fd6ae56level0_row4\" class=\"row_heading level0 row4\" >103</th>\n",
       "                        <th id=\"T_072d189e_3ff1_11eb_8eee_bc542fd6ae56level1_row4\" class=\"row_heading level1 row4\" >Singed Scalpel</th>\n",
       "                        <td id=\"T_072d189e_3ff1_11eb_8eee_bc542fd6ae56row4_col0\" class=\"data row4 col0\" >8</td>\n",
       "                        <td id=\"T_072d189e_3ff1_11eb_8eee_bc542fd6ae56row4_col1\" class=\"data row4 col1\" >$4.35</td>\n",
       "                        <td id=\"T_072d189e_3ff1_11eb_8eee_bc542fd6ae56row4_col2\" class=\"data row4 col2\" >$34.80</td>\n",
       "            </tr>\n",
       "    </tbody></table>"
      ],
      "text/plain": [
       "<pandas.io.formats.style.Styler at 0x1f2b4bd1668>"
      ]
     },
     "execution_count": 190,
     "metadata": {},
     "output_type": "execute_result"
    }
   ],
   "source": [
    "#Format to sort purchase count column in descending order\n",
    "descending_items = item_summary.sort_values([\"Total Purchase Value\"], ascending=False).head(5)\n",
    "\n",
    "# Format using currency and decimals\n",
    "descending_items.style.format({\"Average Item Price\": \"${:,.2f}\",\n",
    "                                \"Total Purchase Value\": \"${:,.2f}\"})"
   ]
  }
 ],
 "metadata": {
  "anaconda-cloud": {},
  "kernel_info": {
   "name": "python3"
  },
  "kernelspec": {
   "display_name": "Python 3",
   "language": "python",
   "name": "python3"
  },
  "language_info": {
   "codemirror_mode": {
    "name": "ipython",
    "version": 3
   },
   "file_extension": ".py",
   "mimetype": "text/x-python",
   "name": "python",
   "nbconvert_exporter": "python",
   "pygments_lexer": "ipython3",
   "version": "3.6.10"
  },
  "latex_envs": {
   "LaTeX_envs_menu_present": true,
   "autoclose": false,
   "autocomplete": true,
   "bibliofile": "biblio.bib",
   "cite_by": "apalike",
   "current_citInitial": 1,
   "eqLabelWithNumbers": true,
   "eqNumInitial": 1,
   "hotkeys": {
    "equation": "Ctrl-E",
    "itemize": "Ctrl-I"
   },
   "labels_anchors": false,
   "latex_user_defs": false,
   "report_style_numbering": false,
   "user_envs_cfg": false
  },
  "nteract": {
   "version": "0.2.0"
  }
 },
 "nbformat": 4,
 "nbformat_minor": 2
}
